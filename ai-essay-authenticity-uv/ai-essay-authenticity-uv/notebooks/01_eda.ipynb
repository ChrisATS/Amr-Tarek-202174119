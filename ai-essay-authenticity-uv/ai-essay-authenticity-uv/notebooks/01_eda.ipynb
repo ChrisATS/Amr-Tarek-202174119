{
  "cells": [
    {
      "cell_type": "markdown",
      "metadata": {},
      "source": [
        "# 01 \u2014 Quick EDA (Human vs AI Essays)\n",
        "Set `CSV_PATH` to the Kaggle file placed under `../data/`."
      ]
    },
    {
      "cell_type": "code",
      "metadata": {},
      "execution_count": null,
      "outputs": [],
      "source": [
        "import pandas as pd, numpy as np\n",
        "import matplotlib.pyplot as plt\n",
        "import seaborn as sns\n",
        "from collections import Counter\n",
        "CSV_PATH = '../data/YOUR_FILE.csv'  # <-- change me\n",
        "df = pd.read_csv(CSV_PATH)\n",
        "df.head()"
      ]
    },
    {
      "cell_type": "code",
      "metadata": {},
      "execution_count": null,
      "outputs": [],
      "source": [
        "def guess_columns(df):\n",
        "    text_col = 'text' if 'text' in df.columns else next(c for c in df.columns if df[c].dtype=='O')\n",
        "    for cand in ['produced','generated','label','target','is_ai','is_ai_generated']:\n",
        "        if cand in df.columns:\n",
        "            return text_col, cand\n",
        "    raise ValueError(f'Label column not found. Columns: {df.columns.tolist()}')\n",
        "text_col, y_col = guess_columns(df)\n",
        "df[y_col] = df[y_col].astype(int)\n",
        "df['length'] = df[text_col].astype(str).str.split().str.len()\n",
        "df[[text_col, y_col, 'length']].head(3)"
      ]
    },
    {
      "cell_type": "code",
      "metadata": {},
      "execution_count": null,
      "outputs": [],
      "source": [
        "cnt = Counter(df[y_col])\n",
        "cnt, {k: v/len(df) for k,v in cnt.items()}"
      ]
    },
    {
      "cell_type": "code",
      "metadata": {},
      "execution_count": null,
      "outputs": [],
      "source": [
        "plt.figure(); sns.histplot(df['length'], bins=50)\n",
        "plt.title('Token (word) length distribution'); plt.show()"
      ]
    },
    {
      "cell_type": "code",
      "metadata": {},
      "execution_count": null,
      "outputs": [],
      "source": [
        "for label in [0,1]:\n",
        "    print(f'\\nExamples for label={label}:')\n",
        "    print('\\n---\\n'.join(df[df[y_col]==label][text_col].astype(str).head(2).tolist()))"
      ]
    }
  ],
  "metadata": {
    "kernelspec": {
      "display_name": "Python 3",
      "language": "python",
      "name": "python3"
    },
    "language_info": {
      "name": "python",
      "version": "3.x"
    }
  },
  "nbformat": 4,
  "nbformat_minor": 2
}